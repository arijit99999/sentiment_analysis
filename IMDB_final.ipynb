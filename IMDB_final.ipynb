{
 "cells": [
  {
   "cell_type": "code",
   "execution_count": 34,
   "metadata": {
    "id": "JgtE_CD4FzCP"
   },
   "outputs": [],
   "source": [
    "import tensorflow as tf"
   ]
  },
  {
   "cell_type": "code",
   "execution_count": 35,
   "metadata": {
    "id": "xMaORZ-uFzCQ"
   },
   "outputs": [],
   "source": [
    "from tensorflow import keras as kr"
   ]
  },
  {
   "cell_type": "code",
   "execution_count": 36,
   "metadata": {
    "id": "mq40jEr4FzCQ"
   },
   "outputs": [],
   "source": [
    "from tensorflow.keras.preprocessing.text import Tokenizer"
   ]
  },
  {
   "cell_type": "code",
   "execution_count": 37,
   "metadata": {
    "id": "07lFaUj-FzCQ"
   },
   "outputs": [],
   "source": [
    "from keras.preprocessing.sequence import pad_sequences"
   ]
  },
  {
   "cell_type": "code",
   "execution_count": 38,
   "metadata": {
    "id": "CWVIjZdyFzCR"
   },
   "outputs": [],
   "source": [
    "import pandas as pd"
   ]
  },
  {
   "cell_type": "code",
   "execution_count": 39,
   "metadata": {
    "id": "Ke7O9Us1FzCR"
   },
   "outputs": [],
   "source": [
    "data=pd.read_csv('sentiment\\IMDB Dataset.csv')"
   ]
  },
  {
   "cell_type": "code",
   "execution_count": 40,
   "metadata": {
    "colab": {
     "base_uri": "https://localhost:8080/",
     "height": 174
    },
    "id": "rXqzP0nYFzCR",
    "outputId": "d7c931a3-8107-4327-e841-cc03594add7c"
   },
   "outputs": [
    {
     "data": {
      "text/html": [
       "<div>\n",
       "<style scoped>\n",
       "    .dataframe tbody tr th:only-of-type {\n",
       "        vertical-align: middle;\n",
       "    }\n",
       "\n",
       "    .dataframe tbody tr th {\n",
       "        vertical-align: top;\n",
       "    }\n",
       "\n",
       "    .dataframe thead th {\n",
       "        text-align: right;\n",
       "    }\n",
       "</style>\n",
       "<table border=\"1\" class=\"dataframe\">\n",
       "  <thead>\n",
       "    <tr style=\"text-align: right;\">\n",
       "      <th></th>\n",
       "      <th>review</th>\n",
       "      <th>sentiment</th>\n",
       "    </tr>\n",
       "  </thead>\n",
       "  <tbody>\n",
       "    <tr>\n",
       "      <th>0</th>\n",
       "      <td>One of the other reviewers has mentioned that ...</td>\n",
       "      <td>positive</td>\n",
       "    </tr>\n",
       "    <tr>\n",
       "      <th>1</th>\n",
       "      <td>A wonderful little production. &lt;br /&gt;&lt;br /&gt;The...</td>\n",
       "      <td>positive</td>\n",
       "    </tr>\n",
       "    <tr>\n",
       "      <th>2</th>\n",
       "      <td>I thought this was a wonderful way to spend ti...</td>\n",
       "      <td>positive</td>\n",
       "    </tr>\n",
       "    <tr>\n",
       "      <th>3</th>\n",
       "      <td>Basically there's a family where a little boy ...</td>\n",
       "      <td>negative</td>\n",
       "    </tr>\n",
       "  </tbody>\n",
       "</table>\n",
       "</div>"
      ],
      "text/plain": [
       "                                              review sentiment\n",
       "0  One of the other reviewers has mentioned that ...  positive\n",
       "1  A wonderful little production. <br /><br />The...  positive\n",
       "2  I thought this was a wonderful way to spend ti...  positive\n",
       "3  Basically there's a family where a little boy ...  negative"
      ]
     },
     "execution_count": 40,
     "metadata": {},
     "output_type": "execute_result"
    }
   ],
   "source": [
    "data.head(4)"
   ]
  },
  {
   "cell_type": "code",
   "execution_count": 41,
   "metadata": {
    "id": "BJN-DuEmRSdG"
   },
   "outputs": [],
   "source": [
    "import spacy\n",
    "import nltk\n",
    "from nltk import wordpunct_tokenize\n",
    "nlp = spacy.load(\"en_core_web_sm\")\n",
    "st=nlp.Defaults.stop_words\n",
    "import re\n",
    "import string\n",
    "e=string.punctuation\n",
    "def text_pro(text):\n",
    "    pattern=re.compile(r'<.*?>') #remove html tag\n",
    "    text=re.sub(pattern,'',text)\n",
    "    pattern=re.compile('https?\\S*') #remove url\n",
    "    text=re.sub(pattern,'',text)\n",
    "    for i in e:                   #remove puntuation\n",
    "      text=text.replace(i,'')\n",
    "    text=text.lower() #make lower\n",
    "    text=wordpunct_tokenize(text) #tokenizatio\n",
    "    list=[]\n",
    "    for i in text:        # collect only alphabetic\n",
    "        if i.isalpha():\n",
    "           list.append(i)\n",
    "    text=list[:]\n",
    "    text=[ i for i in text if i not in st if len(i) >= 2] #stop words\n",
    "    text=\" \".join(text)\n",
    "    doc = nlp(text)\n",
    "    text= [token.lemma_ for token in doc] #lematiztion\n",
    "    text=\" \".join(text)\n",
    "    list.clear()\n",
    "    return text"
   ]
  },
  {
   "cell_type": "code",
   "execution_count": 42,
   "metadata": {
    "id": "cKTM0N3HRUu5"
   },
   "outputs": [],
   "source": [
    "data['transform']=data['review'].apply(text_pro)"
   ]
  },
  {
   "cell_type": "code",
   "execution_count": 48,
   "metadata": {
    "colab": {
     "base_uri": "https://localhost:8080/",
     "height": 206
    },
    "id": "F9QAXJIbS8Uk",
    "outputId": "e3853186-1bef-4381-d03a-b1350ed15293"
   },
   "outputs": [
    {
     "data": {
      "text/html": [
       "<div>\n",
       "<style scoped>\n",
       "    .dataframe tbody tr th:only-of-type {\n",
       "        vertical-align: middle;\n",
       "    }\n",
       "\n",
       "    .dataframe tbody tr th {\n",
       "        vertical-align: top;\n",
       "    }\n",
       "\n",
       "    .dataframe thead th {\n",
       "        text-align: right;\n",
       "    }\n",
       "</style>\n",
       "<table border=\"1\" class=\"dataframe\">\n",
       "  <thead>\n",
       "    <tr style=\"text-align: right;\">\n",
       "      <th></th>\n",
       "      <th>review</th>\n",
       "      <th>sentiment</th>\n",
       "      <th>transform</th>\n",
       "      <th>token</th>\n",
       "    </tr>\n",
       "  </thead>\n",
       "  <tbody>\n",
       "    <tr>\n",
       "      <th>0</th>\n",
       "      <td>One of the other reviewers has mentioned that ...</td>\n",
       "      <td>positive</td>\n",
       "      <td>reviewer mention watch oz episode you ll hook ...</td>\n",
       "      <td>[reviewer, mention, watch, oz, episode, you, l...</td>\n",
       "    </tr>\n",
       "    <tr>\n",
       "      <th>1</th>\n",
       "      <td>A wonderful little production. &lt;br /&gt;&lt;br /&gt;The...</td>\n",
       "      <td>positive</td>\n",
       "      <td>wonderful little production filming technique ...</td>\n",
       "      <td>[wonderful, little, production, filming, techn...</td>\n",
       "    </tr>\n",
       "    <tr>\n",
       "      <th>2</th>\n",
       "      <td>I thought this was a wonderful way to spend ti...</td>\n",
       "      <td>positive</td>\n",
       "      <td>think wonderful way spend time hot summer week...</td>\n",
       "      <td>[think, wonderful, way, spend, time, hot, summ...</td>\n",
       "    </tr>\n",
       "    <tr>\n",
       "      <th>3</th>\n",
       "      <td>Basically there's a family where a little boy ...</td>\n",
       "      <td>negative</td>\n",
       "      <td>basically there s family little boy jake think...</td>\n",
       "      <td>[basically, there, s, family, little, boy, jak...</td>\n",
       "    </tr>\n",
       "    <tr>\n",
       "      <th>4</th>\n",
       "      <td>Petter Mattei's \"Love in the Time of Money\" is...</td>\n",
       "      <td>positive</td>\n",
       "      <td>petter matteis love time money visually stunni...</td>\n",
       "      <td>[petter, matteis, love, time, money, visually,...</td>\n",
       "    </tr>\n",
       "  </tbody>\n",
       "</table>\n",
       "</div>"
      ],
      "text/plain": [
       "                                              review sentiment  \\\n",
       "0  One of the other reviewers has mentioned that ...  positive   \n",
       "1  A wonderful little production. <br /><br />The...  positive   \n",
       "2  I thought this was a wonderful way to spend ti...  positive   \n",
       "3  Basically there's a family where a little boy ...  negative   \n",
       "4  Petter Mattei's \"Love in the Time of Money\" is...  positive   \n",
       "\n",
       "                                           transform  \\\n",
       "0  reviewer mention watch oz episode you ll hook ...   \n",
       "1  wonderful little production filming technique ...   \n",
       "2  think wonderful way spend time hot summer week...   \n",
       "3  basically there s family little boy jake think...   \n",
       "4  petter matteis love time money visually stunni...   \n",
       "\n",
       "                                               token  \n",
       "0  [reviewer, mention, watch, oz, episode, you, l...  \n",
       "1  [wonderful, little, production, filming, techn...  \n",
       "2  [think, wonderful, way, spend, time, hot, summ...  \n",
       "3  [basically, there, s, family, little, boy, jak...  \n",
       "4  [petter, matteis, love, time, money, visually,...  "
      ]
     },
     "execution_count": 48,
     "metadata": {},
     "output_type": "execute_result"
    }
   ],
   "source": [
    "data.head()"
   ]
  },
  {
   "cell_type": "code",
   "execution_count": 49,
   "metadata": {
    "id": "vG9bH5rQVMRM"
   },
   "outputs": [],
   "source": [
    "y=data.drop(['transform','review'],axis=1)"
   ]
  },
  {
   "cell_type": "code",
   "execution_count": 50,
   "metadata": {
    "id": "Rxb-1s1G9mNz"
   },
   "outputs": [],
   "source": [
    "data['token']=data['transform'].apply(lambda x: x.split())"
   ]
  },
  {
   "cell_type": "code",
   "execution_count": 51,
   "metadata": {
    "colab": {
     "base_uri": "https://localhost:8080/",
     "height": 206
    },
    "id": "Dt5fPehw90hk",
    "outputId": "a99ccc5f-f9ee-4f7a-c36e-890154a7658c"
   },
   "outputs": [
    {
     "data": {
      "text/html": [
       "<div>\n",
       "<style scoped>\n",
       "    .dataframe tbody tr th:only-of-type {\n",
       "        vertical-align: middle;\n",
       "    }\n",
       "\n",
       "    .dataframe tbody tr th {\n",
       "        vertical-align: top;\n",
       "    }\n",
       "\n",
       "    .dataframe thead th {\n",
       "        text-align: right;\n",
       "    }\n",
       "</style>\n",
       "<table border=\"1\" class=\"dataframe\">\n",
       "  <thead>\n",
       "    <tr style=\"text-align: right;\">\n",
       "      <th></th>\n",
       "      <th>review</th>\n",
       "      <th>sentiment</th>\n",
       "      <th>transform</th>\n",
       "      <th>token</th>\n",
       "    </tr>\n",
       "  </thead>\n",
       "  <tbody>\n",
       "    <tr>\n",
       "      <th>0</th>\n",
       "      <td>One of the other reviewers has mentioned that ...</td>\n",
       "      <td>positive</td>\n",
       "      <td>reviewer mention watch oz episode you ll hook ...</td>\n",
       "      <td>[reviewer, mention, watch, oz, episode, you, l...</td>\n",
       "    </tr>\n",
       "    <tr>\n",
       "      <th>1</th>\n",
       "      <td>A wonderful little production. &lt;br /&gt;&lt;br /&gt;The...</td>\n",
       "      <td>positive</td>\n",
       "      <td>wonderful little production filming technique ...</td>\n",
       "      <td>[wonderful, little, production, filming, techn...</td>\n",
       "    </tr>\n",
       "    <tr>\n",
       "      <th>2</th>\n",
       "      <td>I thought this was a wonderful way to spend ti...</td>\n",
       "      <td>positive</td>\n",
       "      <td>think wonderful way spend time hot summer week...</td>\n",
       "      <td>[think, wonderful, way, spend, time, hot, summ...</td>\n",
       "    </tr>\n",
       "    <tr>\n",
       "      <th>3</th>\n",
       "      <td>Basically there's a family where a little boy ...</td>\n",
       "      <td>negative</td>\n",
       "      <td>basically there s family little boy jake think...</td>\n",
       "      <td>[basically, there, s, family, little, boy, jak...</td>\n",
       "    </tr>\n",
       "    <tr>\n",
       "      <th>4</th>\n",
       "      <td>Petter Mattei's \"Love in the Time of Money\" is...</td>\n",
       "      <td>positive</td>\n",
       "      <td>petter matteis love time money visually stunni...</td>\n",
       "      <td>[petter, matteis, love, time, money, visually,...</td>\n",
       "    </tr>\n",
       "  </tbody>\n",
       "</table>\n",
       "</div>"
      ],
      "text/plain": [
       "                                              review sentiment  \\\n",
       "0  One of the other reviewers has mentioned that ...  positive   \n",
       "1  A wonderful little production. <br /><br />The...  positive   \n",
       "2  I thought this was a wonderful way to spend ti...  positive   \n",
       "3  Basically there's a family where a little boy ...  negative   \n",
       "4  Petter Mattei's \"Love in the Time of Money\" is...  positive   \n",
       "\n",
       "                                           transform  \\\n",
       "0  reviewer mention watch oz episode you ll hook ...   \n",
       "1  wonderful little production filming technique ...   \n",
       "2  think wonderful way spend time hot summer week...   \n",
       "3  basically there s family little boy jake think...   \n",
       "4  petter matteis love time money visually stunni...   \n",
       "\n",
       "                                               token  \n",
       "0  [reviewer, mention, watch, oz, episode, you, l...  \n",
       "1  [wonderful, little, production, filming, techn...  \n",
       "2  [think, wonderful, way, spend, time, hot, summ...  \n",
       "3  [basically, there, s, family, little, boy, jak...  \n",
       "4  [petter, matteis, love, time, money, visually,...  "
      ]
     },
     "execution_count": 51,
     "metadata": {},
     "output_type": "execute_result"
    }
   ],
   "source": [
    "data.head()"
   ]
  },
  {
   "cell_type": "code",
   "execution_count": null,
   "metadata": {},
   "outputs": [],
   "source": [
    "import gensim      #we used it to extract weights which has been used in weight init \n",
    "from gensim.models import Word2Vec"
   ]
  },
  {
   "cell_type": "code",
   "execution_count": null,
   "metadata": {
    "colab": {
     "base_uri": "https://localhost:8080/"
    },
    "id": "IE0z6OZOVzu0",
    "outputId": "de2bc137-8d83-4b8a-d5e6-f127d2031a52"
   },
   "outputs": [],
   "source": [
    "w2vmodel = Word2Vec(sentences=data['token'], vector_size=100, window=5, min_count=2,sg=0)  #sg=1 means skip-gram\n",
    "len(w2vmodel.wv.key_to_index)"
   ]
  },
  {
   "cell_type": "code",
   "execution_count": null,
   "metadata": {
    "colab": {
     "base_uri": "https://localhost:8080/"
    },
    "id": "ysGVf4IUARD-",
    "outputId": "426e6226-5b55-4a1e-dec0-5e23fe6392f4"
   },
   "outputs": [
    {
     "name": "stderr",
     "output_type": "stream",
     "text": [
      "WARNING:gensim.models.word2vec:Each 'sentences' item should be a list of words (usually unicode strings). First item here is instead plain <class 'str'>.\n"
     ]
    }
   ],
   "source": [
    "w2vmodel.build_vocab(['<nothing>'], update=True) #update new word in vocab"
   ]
  },
  {
   "cell_type": "code",
   "execution_count": null,
   "metadata": {
    "id": "sg7Sz_w7VzUa"
   },
   "outputs": [],
   "source": [
    "vocab_w2v=w2vmodel.wv.key_to_index"
   ]
  },
  {
   "cell_type": "code",
   "execution_count": null,
   "metadata": {
    "colab": {
     "base_uri": "https://localhost:8080/"
    },
    "id": "r40fDFvOXt7x",
    "outputId": "151d5c2d-9f47-499f-87c7-093426540f12"
   },
   "outputs": [
    {
     "data": {
      "text/plain": [
       "[('film', 0.804800271987915),\n",
       " ('moviesbut', 0.7931540012359619),\n",
       " ('therefor', 0.7757278680801392),\n",
       " ('moviebut', 0.773337185382843),\n",
       " ('watchin', 0.7680141925811768),\n",
       " ('moviejust', 0.7637479305267334),\n",
       " ('movieoverall', 0.7616720795631409),\n",
       " ('moviedont', 0.7604532241821289),\n",
       " ('movieit', 0.7597306966781616),\n",
       " ('havnt', 0.7595797777175903)]"
      ]
     },
     "execution_count": 17,
     "metadata": {},
     "output_type": "execute_result"
    }
   ],
   "source": [
    "w2vmodel.wv.most_similar('movie')"
   ]
  },
  {
   "cell_type": "code",
   "execution_count": 325,
   "metadata": {
    "id": "NsEQVPjHFzCS"
   },
   "outputs": [],
   "source": [
    "token=Tokenizer(oov_token='<nothing>',lower=False,num_words=150000)"
   ]
  },
  {
   "cell_type": "code",
   "execution_count": 326,
   "metadata": {
    "id": "zyxG96XoFzCS"
   },
   "outputs": [],
   "source": [
    "token.fit_on_texts(data['transform'])"
   ]
  },
  {
   "cell_type": "code",
   "execution_count": 259,
   "metadata": {},
   "outputs": [],
   "source": [
    "import pickle\n",
    "with open(\"sentiment_token.pkl\", \"wb\") as file:\n",
    "    pickle.dump(token, file)"
   ]
  },
  {
   "cell_type": "code",
   "execution_count": 327,
   "metadata": {
    "id": "DUlJ1UmdFzCT"
   },
   "outputs": [
    {
     "data": {
      "text/plain": [
       "197247"
      ]
     },
     "execution_count": 327,
     "metadata": {},
     "output_type": "execute_result"
    }
   ],
   "source": [
    "input=len(token.word_index)+1\n",
    "input"
   ]
  },
  {
   "cell_type": "code",
   "execution_count": 328,
   "metadata": {
    "id": "4PPMwdLrFzCT"
   },
   "outputs": [],
   "source": [
    "vocab=token.word_index"
   ]
  },
  {
   "cell_type": "code",
   "execution_count": 329,
   "metadata": {
    "id": "1o_rQ_eHct54"
   },
   "outputs": [],
   "source": [
    "df=token.texts_to_sequences(data['transform'])"
   ]
  },
  {
   "cell_type": "code",
   "execution_count": 330,
   "metadata": {
    "id": "eKUCdcwya148"
   },
   "outputs": [],
   "source": [
    "data['vc']=df"
   ]
  },
  {
   "cell_type": "code",
   "execution_count": 331,
   "metadata": {
    "colab": {
     "base_uri": "https://localhost:8080/",
     "height": 293
    },
    "id": "AEapH9Oqa10N",
    "outputId": "20f8bbb4-d033-4f85-d525-f58669c5a64e"
   },
   "outputs": [
    {
     "data": {
      "text/html": [
       "<div>\n",
       "<style scoped>\n",
       "    .dataframe tbody tr th:only-of-type {\n",
       "        vertical-align: middle;\n",
       "    }\n",
       "\n",
       "    .dataframe tbody tr th {\n",
       "        vertical-align: top;\n",
       "    }\n",
       "\n",
       "    .dataframe thead th {\n",
       "        text-align: right;\n",
       "    }\n",
       "</style>\n",
       "<table border=\"1\" class=\"dataframe\">\n",
       "  <thead>\n",
       "    <tr style=\"text-align: right;\">\n",
       "      <th></th>\n",
       "      <th>review</th>\n",
       "      <th>sentiment</th>\n",
       "      <th>transform</th>\n",
       "      <th>token</th>\n",
       "      <th>vc</th>\n",
       "    </tr>\n",
       "  </thead>\n",
       "  <tbody>\n",
       "    <tr>\n",
       "      <th>0</th>\n",
       "      <td>One of the other reviewers has mentioned that ...</td>\n",
       "      <td>positive</td>\n",
       "      <td>reviewer mention watch oz episode you ll hook ...</td>\n",
       "      <td>[reviewer, mention, watch, oz, episode, you, l...</td>\n",
       "      <td>[882, 268, 10, 2704, 137, 56, 240, 1980, 87, 4...</td>\n",
       "    </tr>\n",
       "    <tr>\n",
       "      <th>1</th>\n",
       "      <td>A wonderful little production. &lt;br /&gt;&lt;br /&gt;The...</td>\n",
       "      <td>positive</td>\n",
       "      <td>wonderful little production filming technique ...</td>\n",
       "      <td>[wonderful, little, production, filming, techn...</td>\n",
       "      <td>[250, 41, 201, 2139, 1406, 69614, 69615, 1148,...</td>\n",
       "    </tr>\n",
       "    <tr>\n",
       "      <th>2</th>\n",
       "      <td>I thought this was a wonderful way to spend ti...</td>\n",
       "      <td>positive</td>\n",
       "      <td>think wonderful way spend time hot summer week...</td>\n",
       "      <td>[think, wonderful, way, spend, time, hot, summ...</td>\n",
       "      <td>[15, 250, 24, 304, 8, 643, 1129, 1922, 269, 55...</td>\n",
       "    </tr>\n",
       "    <tr>\n",
       "      <th>3</th>\n",
       "      <td>Basically there's a family where a little boy ...</td>\n",
       "      <td>negative</td>\n",
       "      <td>basically there s family little boy jake think...</td>\n",
       "      <td>[basically, there, s, family, little, boy, jak...</td>\n",
       "      <td>[502, 107, 11, 102, 41, 163, 2689, 15, 107, 11...</td>\n",
       "    </tr>\n",
       "    <tr>\n",
       "      <th>4</th>\n",
       "      <td>Petter Mattei's \"Love in the Time of Money\" is...</td>\n",
       "      <td>positive</td>\n",
       "      <td>petter matteis love time money visually stunni...</td>\n",
       "      <td>[petter, matteis, love, time, money, visually,...</td>\n",
       "      <td>[69618, 26918, 23, 8, 155, 1719, 1116, 3, 10, ...</td>\n",
       "    </tr>\n",
       "  </tbody>\n",
       "</table>\n",
       "</div>"
      ],
      "text/plain": [
       "                                              review sentiment  \\\n",
       "0  One of the other reviewers has mentioned that ...  positive   \n",
       "1  A wonderful little production. <br /><br />The...  positive   \n",
       "2  I thought this was a wonderful way to spend ti...  positive   \n",
       "3  Basically there's a family where a little boy ...  negative   \n",
       "4  Petter Mattei's \"Love in the Time of Money\" is...  positive   \n",
       "\n",
       "                                           transform  \\\n",
       "0  reviewer mention watch oz episode you ll hook ...   \n",
       "1  wonderful little production filming technique ...   \n",
       "2  think wonderful way spend time hot summer week...   \n",
       "3  basically there s family little boy jake think...   \n",
       "4  petter matteis love time money visually stunni...   \n",
       "\n",
       "                                               token  \\\n",
       "0  [reviewer, mention, watch, oz, episode, you, l...   \n",
       "1  [wonderful, little, production, filming, techn...   \n",
       "2  [think, wonderful, way, spend, time, hot, summ...   \n",
       "3  [basically, there, s, family, little, boy, jak...   \n",
       "4  [petter, matteis, love, time, money, visually,...   \n",
       "\n",
       "                                                  vc  \n",
       "0  [882, 268, 10, 2704, 137, 56, 240, 1980, 87, 4...  \n",
       "1  [250, 41, 201, 2139, 1406, 69614, 69615, 1148,...  \n",
       "2  [15, 250, 24, 304, 8, 643, 1129, 1922, 269, 55...  \n",
       "3  [502, 107, 11, 102, 41, 163, 2689, 15, 107, 11...  \n",
       "4  [69618, 26918, 23, 8, 155, 1719, 1116, 3, 10, ...  "
      ]
     },
     "execution_count": 331,
     "metadata": {},
     "output_type": "execute_result"
    }
   ],
   "source": [
    "data.head()"
   ]
  },
  {
   "cell_type": "code",
   "execution_count": 332,
   "metadata": {
    "id": "MtJVgHRoYyid"
   },
   "outputs": [],
   "source": [
    "pad=pad_sequences(data['vc'],padding='post',maxlen=500)"
   ]
  },
  {
   "cell_type": "code",
   "execution_count": 333,
   "metadata": {
    "colab": {
     "base_uri": "https://localhost:8080/"
    },
    "id": "ZUgwEmzXbF9-",
    "outputId": "a89a1950-1e27-45ee-e31e-b87dab7c1868"
   },
   "outputs": [
    {
     "data": {
      "text/plain": [
       "197247"
      ]
     },
     "execution_count": 333,
     "metadata": {},
     "output_type": "execute_result"
    }
   ],
   "source": [
    "len(token.word_index)+1"
   ]
  },
  {
   "cell_type": "code",
   "execution_count": 334,
   "metadata": {
    "id": "MmidbmnJatED"
   },
   "outputs": [],
   "source": [
    "def embedding_matrix(model):\n",
    "    embedding_matrix = np.zeros((197915,300))\n",
    "    for word, i in vocab_w2v.items():\n",
    "        if word in model.wv:\n",
    "            embedding_matrix[i] = model.wv[word]\n",
    "    return embedding_matrix"
   ]
  },
  {
   "cell_type": "code",
   "execution_count": null,
   "metadata": {
    "id": "5bEkhz-oatA2"
   },
   "outputs": [],
   "source": [
    "t=embedding_matrix(w2vmodel)"
   ]
  },
  {
   "cell_type": "code",
   "execution_count": null,
   "metadata": {
    "colab": {
     "base_uri": "https://localhost:8080/"
    },
    "id": "cvG23F2zbgf4",
    "outputId": "a2b5fc8d-da09-4ae3-e6be-96e637034213"
   },
   "outputs": [
    {
     "data": {
      "text/plain": [
       "(197915, 300)"
      ]
     },
     "execution_count": 30,
     "metadata": {},
     "output_type": "execute_result"
    }
   ],
   "source": [
    "t.shape"
   ]
  },
  {
   "cell_type": "code",
   "execution_count": null,
   "metadata": {
    "id": "7G-LGzTdb0za"
   },
   "outputs": [],
   "source": [
    "weights=pd.DataFrame(t)"
   ]
  },
  {
   "cell_type": "code",
   "execution_count": null,
   "metadata": {
    "colab": {
     "base_uri": "https://localhost:8080/",
     "height": 255
    },
    "id": "m7phu8V7cEHv",
    "outputId": "0ff2be92-3bee-4e6d-b317-e42bae3b64a3"
   },
   "outputs": [
    {
     "data": {
      "application/vnd.google.colaboratory.intrinsic+json": {
       "type": "dataframe",
       "variable_name": "weights"
      },
      "text/html": [
       "\n",
       "  <div id=\"df-20bdbb6d-1915-4c40-90da-93def55a1d0c\" class=\"colab-df-container\">\n",
       "    <div>\n",
       "<style scoped>\n",
       "    .dataframe tbody tr th:only-of-type {\n",
       "        vertical-align: middle;\n",
       "    }\n",
       "\n",
       "    .dataframe tbody tr th {\n",
       "        vertical-align: top;\n",
       "    }\n",
       "\n",
       "    .dataframe thead th {\n",
       "        text-align: right;\n",
       "    }\n",
       "</style>\n",
       "<table border=\"1\" class=\"dataframe\">\n",
       "  <thead>\n",
       "    <tr style=\"text-align: right;\">\n",
       "      <th></th>\n",
       "      <th>0</th>\n",
       "      <th>1</th>\n",
       "      <th>2</th>\n",
       "      <th>3</th>\n",
       "      <th>4</th>\n",
       "      <th>5</th>\n",
       "      <th>6</th>\n",
       "      <th>7</th>\n",
       "      <th>8</th>\n",
       "      <th>9</th>\n",
       "      <th>...</th>\n",
       "      <th>290</th>\n",
       "      <th>291</th>\n",
       "      <th>292</th>\n",
       "      <th>293</th>\n",
       "      <th>294</th>\n",
       "      <th>295</th>\n",
       "      <th>296</th>\n",
       "      <th>297</th>\n",
       "      <th>298</th>\n",
       "      <th>299</th>\n",
       "    </tr>\n",
       "  </thead>\n",
       "  <tbody>\n",
       "    <tr>\n",
       "      <th>0</th>\n",
       "      <td>0.123084</td>\n",
       "      <td>0.229055</td>\n",
       "      <td>0.044114</td>\n",
       "      <td>-0.022289</td>\n",
       "      <td>0.025585</td>\n",
       "      <td>-0.397156</td>\n",
       "      <td>0.207203</td>\n",
       "      <td>0.228648</td>\n",
       "      <td>-0.133080</td>\n",
       "      <td>0.009408</td>\n",
       "      <td>...</td>\n",
       "      <td>-0.101809</td>\n",
       "      <td>0.285936</td>\n",
       "      <td>-0.018794</td>\n",
       "      <td>0.098040</td>\n",
       "      <td>0.263403</td>\n",
       "      <td>0.173988</td>\n",
       "      <td>0.031822</td>\n",
       "      <td>-0.102886</td>\n",
       "      <td>0.107092</td>\n",
       "      <td>0.040532</td>\n",
       "    </tr>\n",
       "    <tr>\n",
       "      <th>1</th>\n",
       "      <td>0.075653</td>\n",
       "      <td>0.091749</td>\n",
       "      <td>0.068950</td>\n",
       "      <td>-0.088446</td>\n",
       "      <td>-0.010065</td>\n",
       "      <td>-0.304310</td>\n",
       "      <td>0.090545</td>\n",
       "      <td>0.140416</td>\n",
       "      <td>-0.074545</td>\n",
       "      <td>0.008355</td>\n",
       "      <td>...</td>\n",
       "      <td>0.039410</td>\n",
       "      <td>0.259521</td>\n",
       "      <td>0.023549</td>\n",
       "      <td>0.080092</td>\n",
       "      <td>0.266669</td>\n",
       "      <td>0.193880</td>\n",
       "      <td>-0.070600</td>\n",
       "      <td>-0.113709</td>\n",
       "      <td>0.047872</td>\n",
       "      <td>0.019838</td>\n",
       "    </tr>\n",
       "    <tr>\n",
       "      <th>2</th>\n",
       "      <td>-0.149682</td>\n",
       "      <td>0.129270</td>\n",
       "      <td>0.058180</td>\n",
       "      <td>0.275058</td>\n",
       "      <td>0.186702</td>\n",
       "      <td>-0.176132</td>\n",
       "      <td>0.274740</td>\n",
       "      <td>0.432175</td>\n",
       "      <td>-0.115903</td>\n",
       "      <td>0.039725</td>\n",
       "      <td>...</td>\n",
       "      <td>0.127315</td>\n",
       "      <td>0.055274</td>\n",
       "      <td>0.189023</td>\n",
       "      <td>0.053411</td>\n",
       "      <td>0.331532</td>\n",
       "      <td>0.037454</td>\n",
       "      <td>-0.008474</td>\n",
       "      <td>0.053535</td>\n",
       "      <td>0.427821</td>\n",
       "      <td>-0.092465</td>\n",
       "    </tr>\n",
       "    <tr>\n",
       "      <th>3</th>\n",
       "      <td>-0.085838</td>\n",
       "      <td>0.180012</td>\n",
       "      <td>0.185422</td>\n",
       "      <td>-0.098587</td>\n",
       "      <td>0.089854</td>\n",
       "      <td>-0.180285</td>\n",
       "      <td>0.107858</td>\n",
       "      <td>0.171316</td>\n",
       "      <td>-0.024090</td>\n",
       "      <td>-0.165032</td>\n",
       "      <td>...</td>\n",
       "      <td>-0.086851</td>\n",
       "      <td>0.077646</td>\n",
       "      <td>0.180063</td>\n",
       "      <td>0.136643</td>\n",
       "      <td>0.196446</td>\n",
       "      <td>-0.119623</td>\n",
       "      <td>0.115355</td>\n",
       "      <td>0.056706</td>\n",
       "      <td>-0.017874</td>\n",
       "      <td>-0.095986</td>\n",
       "    </tr>\n",
       "    <tr>\n",
       "      <th>4</th>\n",
       "      <td>0.156592</td>\n",
       "      <td>0.054427</td>\n",
       "      <td>0.081971</td>\n",
       "      <td>-0.149997</td>\n",
       "      <td>-0.021473</td>\n",
       "      <td>-0.013660</td>\n",
       "      <td>0.076491</td>\n",
       "      <td>0.285821</td>\n",
       "      <td>-0.058431</td>\n",
       "      <td>-0.018980</td>\n",
       "      <td>...</td>\n",
       "      <td>0.028476</td>\n",
       "      <td>0.352595</td>\n",
       "      <td>0.169160</td>\n",
       "      <td>0.091444</td>\n",
       "      <td>0.309627</td>\n",
       "      <td>-0.065617</td>\n",
       "      <td>0.086609</td>\n",
       "      <td>-0.022969</td>\n",
       "      <td>0.090900</td>\n",
       "      <td>0.032102</td>\n",
       "    </tr>\n",
       "  </tbody>\n",
       "</table>\n",
       "<p>5 rows × 300 columns</p>\n",
       "</div>\n",
       "    <div class=\"colab-df-buttons\">\n",
       "\n",
       "  <div class=\"colab-df-container\">\n",
       "    <button class=\"colab-df-convert\" onclick=\"convertToInteractive('df-20bdbb6d-1915-4c40-90da-93def55a1d0c')\"\n",
       "            title=\"Convert this dataframe to an interactive table.\"\n",
       "            style=\"display:none;\">\n",
       "\n",
       "  <svg xmlns=\"http://www.w3.org/2000/svg\" height=\"24px\" viewBox=\"0 -960 960 960\">\n",
       "    <path d=\"M120-120v-720h720v720H120Zm60-500h600v-160H180v160Zm220 220h160v-160H400v160Zm0 220h160v-160H400v160ZM180-400h160v-160H180v160Zm440 0h160v-160H620v160ZM180-180h160v-160H180v160Zm440 0h160v-160H620v160Z\"/>\n",
       "  </svg>\n",
       "    </button>\n",
       "\n",
       "  <style>\n",
       "    .colab-df-container {\n",
       "      display:flex;\n",
       "      gap: 12px;\n",
       "    }\n",
       "\n",
       "    .colab-df-convert {\n",
       "      background-color: #E8F0FE;\n",
       "      border: none;\n",
       "      border-radius: 50%;\n",
       "      cursor: pointer;\n",
       "      display: none;\n",
       "      fill: #1967D2;\n",
       "      height: 32px;\n",
       "      padding: 0 0 0 0;\n",
       "      width: 32px;\n",
       "    }\n",
       "\n",
       "    .colab-df-convert:hover {\n",
       "      background-color: #E2EBFA;\n",
       "      box-shadow: 0px 1px 2px rgba(60, 64, 67, 0.3), 0px 1px 3px 1px rgba(60, 64, 67, 0.15);\n",
       "      fill: #174EA6;\n",
       "    }\n",
       "\n",
       "    .colab-df-buttons div {\n",
       "      margin-bottom: 4px;\n",
       "    }\n",
       "\n",
       "    [theme=dark] .colab-df-convert {\n",
       "      background-color: #3B4455;\n",
       "      fill: #D2E3FC;\n",
       "    }\n",
       "\n",
       "    [theme=dark] .colab-df-convert:hover {\n",
       "      background-color: #434B5C;\n",
       "      box-shadow: 0px 1px 3px 1px rgba(0, 0, 0, 0.15);\n",
       "      filter: drop-shadow(0px 1px 2px rgba(0, 0, 0, 0.3));\n",
       "      fill: #FFFFFF;\n",
       "    }\n",
       "  </style>\n",
       "\n",
       "    <script>\n",
       "      const buttonEl =\n",
       "        document.querySelector('#df-20bdbb6d-1915-4c40-90da-93def55a1d0c button.colab-df-convert');\n",
       "      buttonEl.style.display =\n",
       "        google.colab.kernel.accessAllowed ? 'block' : 'none';\n",
       "\n",
       "      async function convertToInteractive(key) {\n",
       "        const element = document.querySelector('#df-20bdbb6d-1915-4c40-90da-93def55a1d0c');\n",
       "        const dataTable =\n",
       "          await google.colab.kernel.invokeFunction('convertToInteractive',\n",
       "                                                    [key], {});\n",
       "        if (!dataTable) return;\n",
       "\n",
       "        const docLinkHtml = 'Like what you see? Visit the ' +\n",
       "          '<a target=\"_blank\" href=https://colab.research.google.com/notebooks/data_table.ipynb>data table notebook</a>'\n",
       "          + ' to learn more about interactive tables.';\n",
       "        element.innerHTML = '';\n",
       "        dataTable['output_type'] = 'display_data';\n",
       "        await google.colab.output.renderOutput(dataTable, element);\n",
       "        const docLink = document.createElement('div');\n",
       "        docLink.innerHTML = docLinkHtml;\n",
       "        element.appendChild(docLink);\n",
       "      }\n",
       "    </script>\n",
       "  </div>\n",
       "\n",
       "\n",
       "<div id=\"df-6fe2030b-196e-42f2-896d-d60ea3db9e81\">\n",
       "  <button class=\"colab-df-quickchart\" onclick=\"quickchart('df-6fe2030b-196e-42f2-896d-d60ea3db9e81')\"\n",
       "            title=\"Suggest charts\"\n",
       "            style=\"display:none;\">\n",
       "\n",
       "<svg xmlns=\"http://www.w3.org/2000/svg\" height=\"24px\"viewBox=\"0 0 24 24\"\n",
       "     width=\"24px\">\n",
       "    <g>\n",
       "        <path d=\"M19 3H5c-1.1 0-2 .9-2 2v14c0 1.1.9 2 2 2h14c1.1 0 2-.9 2-2V5c0-1.1-.9-2-2-2zM9 17H7v-7h2v7zm4 0h-2V7h2v10zm4 0h-2v-4h2v4z\"/>\n",
       "    </g>\n",
       "</svg>\n",
       "  </button>\n",
       "\n",
       "<style>\n",
       "  .colab-df-quickchart {\n",
       "      --bg-color: #E8F0FE;\n",
       "      --fill-color: #1967D2;\n",
       "      --hover-bg-color: #E2EBFA;\n",
       "      --hover-fill-color: #174EA6;\n",
       "      --disabled-fill-color: #AAA;\n",
       "      --disabled-bg-color: #DDD;\n",
       "  }\n",
       "\n",
       "  [theme=dark] .colab-df-quickchart {\n",
       "      --bg-color: #3B4455;\n",
       "      --fill-color: #D2E3FC;\n",
       "      --hover-bg-color: #434B5C;\n",
       "      --hover-fill-color: #FFFFFF;\n",
       "      --disabled-bg-color: #3B4455;\n",
       "      --disabled-fill-color: #666;\n",
       "  }\n",
       "\n",
       "  .colab-df-quickchart {\n",
       "    background-color: var(--bg-color);\n",
       "    border: none;\n",
       "    border-radius: 50%;\n",
       "    cursor: pointer;\n",
       "    display: none;\n",
       "    fill: var(--fill-color);\n",
       "    height: 32px;\n",
       "    padding: 0;\n",
       "    width: 32px;\n",
       "  }\n",
       "\n",
       "  .colab-df-quickchart:hover {\n",
       "    background-color: var(--hover-bg-color);\n",
       "    box-shadow: 0 1px 2px rgba(60, 64, 67, 0.3), 0 1px 3px 1px rgba(60, 64, 67, 0.15);\n",
       "    fill: var(--button-hover-fill-color);\n",
       "  }\n",
       "\n",
       "  .colab-df-quickchart-complete:disabled,\n",
       "  .colab-df-quickchart-complete:disabled:hover {\n",
       "    background-color: var(--disabled-bg-color);\n",
       "    fill: var(--disabled-fill-color);\n",
       "    box-shadow: none;\n",
       "  }\n",
       "\n",
       "  .colab-df-spinner {\n",
       "    border: 2px solid var(--fill-color);\n",
       "    border-color: transparent;\n",
       "    border-bottom-color: var(--fill-color);\n",
       "    animation:\n",
       "      spin 1s steps(1) infinite;\n",
       "  }\n",
       "\n",
       "  @keyframes spin {\n",
       "    0% {\n",
       "      border-color: transparent;\n",
       "      border-bottom-color: var(--fill-color);\n",
       "      border-left-color: var(--fill-color);\n",
       "    }\n",
       "    20% {\n",
       "      border-color: transparent;\n",
       "      border-left-color: var(--fill-color);\n",
       "      border-top-color: var(--fill-color);\n",
       "    }\n",
       "    30% {\n",
       "      border-color: transparent;\n",
       "      border-left-color: var(--fill-color);\n",
       "      border-top-color: var(--fill-color);\n",
       "      border-right-color: var(--fill-color);\n",
       "    }\n",
       "    40% {\n",
       "      border-color: transparent;\n",
       "      border-right-color: var(--fill-color);\n",
       "      border-top-color: var(--fill-color);\n",
       "    }\n",
       "    60% {\n",
       "      border-color: transparent;\n",
       "      border-right-color: var(--fill-color);\n",
       "    }\n",
       "    80% {\n",
       "      border-color: transparent;\n",
       "      border-right-color: var(--fill-color);\n",
       "      border-bottom-color: var(--fill-color);\n",
       "    }\n",
       "    90% {\n",
       "      border-color: transparent;\n",
       "      border-bottom-color: var(--fill-color);\n",
       "    }\n",
       "  }\n",
       "</style>\n",
       "\n",
       "  <script>\n",
       "    async function quickchart(key) {\n",
       "      const quickchartButtonEl =\n",
       "        document.querySelector('#' + key + ' button');\n",
       "      quickchartButtonEl.disabled = true;  // To prevent multiple clicks.\n",
       "      quickchartButtonEl.classList.add('colab-df-spinner');\n",
       "      try {\n",
       "        const charts = await google.colab.kernel.invokeFunction(\n",
       "            'suggestCharts', [key], {});\n",
       "      } catch (error) {\n",
       "        console.error('Error during call to suggestCharts:', error);\n",
       "      }\n",
       "      quickchartButtonEl.classList.remove('colab-df-spinner');\n",
       "      quickchartButtonEl.classList.add('colab-df-quickchart-complete');\n",
       "    }\n",
       "    (() => {\n",
       "      let quickchartButtonEl =\n",
       "        document.querySelector('#df-6fe2030b-196e-42f2-896d-d60ea3db9e81 button');\n",
       "      quickchartButtonEl.style.display =\n",
       "        google.colab.kernel.accessAllowed ? 'block' : 'none';\n",
       "    })();\n",
       "  </script>\n",
       "</div>\n",
       "\n",
       "    </div>\n",
       "  </div>\n"
      ],
      "text/plain": [
       "        0         1         2         3         4         5         6    \\\n",
       "0  0.123084  0.229055  0.044114 -0.022289  0.025585 -0.397156  0.207203   \n",
       "1  0.075653  0.091749  0.068950 -0.088446 -0.010065 -0.304310  0.090545   \n",
       "2 -0.149682  0.129270  0.058180  0.275058  0.186702 -0.176132  0.274740   \n",
       "3 -0.085838  0.180012  0.185422 -0.098587  0.089854 -0.180285  0.107858   \n",
       "4  0.156592  0.054427  0.081971 -0.149997 -0.021473 -0.013660  0.076491   \n",
       "\n",
       "        7         8         9    ...       290       291       292       293  \\\n",
       "0  0.228648 -0.133080  0.009408  ... -0.101809  0.285936 -0.018794  0.098040   \n",
       "1  0.140416 -0.074545  0.008355  ...  0.039410  0.259521  0.023549  0.080092   \n",
       "2  0.432175 -0.115903  0.039725  ...  0.127315  0.055274  0.189023  0.053411   \n",
       "3  0.171316 -0.024090 -0.165032  ... -0.086851  0.077646  0.180063  0.136643   \n",
       "4  0.285821 -0.058431 -0.018980  ...  0.028476  0.352595  0.169160  0.091444   \n",
       "\n",
       "        294       295       296       297       298       299  \n",
       "0  0.263403  0.173988  0.031822 -0.102886  0.107092  0.040532  \n",
       "1  0.266669  0.193880 -0.070600 -0.113709  0.047872  0.019838  \n",
       "2  0.331532  0.037454 -0.008474  0.053535  0.427821 -0.092465  \n",
       "3  0.196446 -0.119623  0.115355  0.056706 -0.017874 -0.095986  \n",
       "4  0.309627 -0.065617  0.086609 -0.022969  0.090900  0.032102  \n",
       "\n",
       "[5 rows x 300 columns]"
      ]
     },
     "execution_count": 32,
     "metadata": {},
     "output_type": "execute_result"
    }
   ],
   "source": [
    "weights.head()"
   ]
  },
  {
   "cell_type": "code",
   "execution_count": 78,
   "metadata": {
    "id": "olmRiGVIFzCT"
   },
   "outputs": [],
   "source": [
    "import pickle"
   ]
  },
  {
   "cell_type": "code",
   "execution_count": 79,
   "metadata": {
    "id": "v4Qw2n83FzCT"
   },
   "outputs": [],
   "source": [
    "with open(\"sentiment_token.pkl\", \"wb\") as file:\n",
    "    pickle.dump(token, file)"
   ]
  },
  {
   "cell_type": "code",
   "execution_count": 80,
   "metadata": {
    "id": "PFKDwUQzFzCT"
   },
   "outputs": [],
   "source": [
    "from sklearn.preprocessing import LabelEncoder"
   ]
  },
  {
   "cell_type": "code",
   "execution_count": 81,
   "metadata": {
    "id": "rlE1bv-QFzCT"
   },
   "outputs": [],
   "source": [
    "encoder = LabelEncoder()\n",
    "y=encoder.fit_transform(y['sentiment'])"
   ]
  },
  {
   "cell_type": "code",
   "execution_count": 82,
   "metadata": {
    "id": "tq7m9JpHFzCU"
   },
   "outputs": [],
   "source": [
    "from sklearn.model_selection import train_test_split"
   ]
  },
  {
   "cell_type": "code",
   "execution_count": 335,
   "metadata": {
    "id": "TGeGJo9bFzCU"
   },
   "outputs": [],
   "source": [
    "x_train,x_test,y_train,y_test=train_test_split(pad,y,random_state=121,test_size=.2)"
   ]
  },
  {
   "cell_type": "code",
   "execution_count": 336,
   "metadata": {
    "colab": {
     "base_uri": "https://localhost:8080/"
    },
    "id": "ZfGNuvJSFzCU",
    "outputId": "00eddc2d-ca15-4b55-d138-1108ffd1f844"
   },
   "outputs": [
    {
     "data": {
      "text/plain": [
       "(40000, 500)"
      ]
     },
     "execution_count": 336,
     "metadata": {},
     "output_type": "execute_result"
    }
   ],
   "source": [
    "x_train.shape"
   ]
  },
  {
   "cell_type": "code",
   "execution_count": 337,
   "metadata": {
    "colab": {
     "base_uri": "https://localhost:8080/"
    },
    "id": "1jvFoH_NFzCU",
    "outputId": "154ab066-4816-4049-f933-e0bd29bd1534"
   },
   "outputs": [
    {
     "data": {
      "text/plain": [
       "(10000, 500)"
      ]
     },
     "execution_count": 337,
     "metadata": {},
     "output_type": "execute_result"
    }
   ],
   "source": [
    "x_test.shape"
   ]
  },
  {
   "cell_type": "code",
   "execution_count": 338,
   "metadata": {
    "colab": {
     "base_uri": "https://localhost:8080/"
    },
    "id": "ydqkRxkaFzCV",
    "outputId": "03dc5866-1749-40ce-bb93-f814a285e81c"
   },
   "outputs": [
    {
     "data": {
      "text/plain": [
       "(10000,)"
      ]
     },
     "execution_count": 338,
     "metadata": {},
     "output_type": "execute_result"
    }
   ],
   "source": [
    "y_test.shape"
   ]
  },
  {
   "cell_type": "code",
   "execution_count": 339,
   "metadata": {
    "colab": {
     "base_uri": "https://localhost:8080/"
    },
    "id": "yup-sV5nFzCV",
    "outputId": "3cdfc380-136c-426d-feca-17f4c4701042"
   },
   "outputs": [
    {
     "data": {
      "text/plain": [
       "(40000,)"
      ]
     },
     "execution_count": 339,
     "metadata": {},
     "output_type": "execute_result"
    }
   ],
   "source": [
    "y_train.shape"
   ]
  },
  {
   "cell_type": "code",
   "execution_count": 340,
   "metadata": {
    "id": "2sZxh6XcFzCV"
   },
   "outputs": [],
   "source": [
    "from tensorflow.keras.models import Sequential\n",
    "from tensorflow.keras.layers import LSTM, Dense, Dropout,Embedding,Flatten,GRU,Bidirectional\n",
    "from tensorflow.keras.optimizers import Adam, RMSprop\n",
    "from tensorflow.keras.regularizers import l2\n",
    "from tensorflow.keras.preprocessing.sequence import pad_sequences"
   ]
  },
  {
   "cell_type": "code",
   "execution_count": 341,
   "metadata": {
    "id": "tEBXPzcKFzCV"
   },
   "outputs": [
    {
     "data": {
      "text/plain": [
       "500"
      ]
     },
     "execution_count": 341,
     "metadata": {},
     "output_type": "execute_result"
    }
   ],
   "source": [
    "len(x_train[0])"
   ]
  },
  {
   "cell_type": "code",
   "execution_count": 342,
   "metadata": {
    "id": "v0Dl797ARrVU"
   },
   "outputs": [],
   "source": [
    "from tensorflow.keras.activations import swish"
   ]
  },
  {
   "cell_type": "code",
   "execution_count": 344,
   "metadata": {
    "id": "tlVCWMbFitxU"
   },
   "outputs": [],
   "source": [
    "model=Sequential()\n",
    "model.add(Embedding(input_dim=input,output_dim=200,trainable=True))\n",
    "model.add(Bidirectional(LSTM(128,return_sequences=True)))\n",
    "model.add(Dropout(0.2))\n",
    "model.add(Bidirectional(LSTM(128,return_sequences=True)))\n",
    "model.add(Dropout(0.2))\n",
    "model.add(Bidirectional(LSTM(64,return_sequences=False)))\n",
    "model.add(Dropout(0.2))\n",
    "model.add(Dense(64,activation='swish'))\n",
    "#model.add(Dropout(0.2))\n",
    "model.add(Dense(1,activation='sigmoid'))"
   ]
  },
  {
   "cell_type": "code",
   "execution_count": 345,
   "metadata": {
    "id": "F3KsBE2Iu8Lt"
   },
   "outputs": [],
   "source": [
    "optimizer=Adam(learning_rate=0.001)"
   ]
  },
  {
   "cell_type": "code",
   "execution_count": 346,
   "metadata": {
    "id": "U-zxTYbPjNjY"
   },
   "outputs": [],
   "source": [
    "model.compile(optimizer=optimizer, loss='binary_crossentropy', metrics=['accuracy'])"
   ]
  },
  {
   "cell_type": "code",
   "execution_count": 347,
   "metadata": {
    "colab": {
     "base_uri": "https://localhost:8080/"
    },
    "id": "BLMN-os7jVj_",
    "outputId": "5c6d0f7d-5fac-4aa3-fb98-3fd467d08b28"
   },
   "outputs": [
    {
     "name": "stdout",
     "output_type": "stream",
     "text": [
      "Epoch 1/3\n",
      "\u001b[1m1250/1250\u001b[0m \u001b[32m━━━━━━━━━━━━━━━━━━━━\u001b[0m\u001b[37m\u001b[0m \u001b[1m1697s\u001b[0m 1s/step - accuracy: 0.6884 - loss: 0.5774 - val_accuracy: 0.8515 - val_loss: 0.3636\n",
      "Epoch 2/3\n",
      "\u001b[1m1250/1250\u001b[0m \u001b[32m━━━━━━━━━━━━━━━━━━━━\u001b[0m\u001b[37m\u001b[0m \u001b[1m1873s\u001b[0m 1s/step - accuracy: 0.8514 - loss: 0.3625 - val_accuracy: 0.8778 - val_loss: 0.2951\n",
      "Epoch 3/3\n",
      "\u001b[1m1250/1250\u001b[0m \u001b[32m━━━━━━━━━━━━━━━━━━━━\u001b[0m\u001b[37m\u001b[0m \u001b[1m1744s\u001b[0m 1s/step - accuracy: 0.9310 - loss: 0.1895 - val_accuracy: 0.8807 - val_loss: 0.3151\n"
     ]
    }
   ],
   "source": [
    "history = model.fit(\n",
    "        x_train, y_train,\n",
    "        validation_data=(x_test, y_test),\n",
    "        epochs=3,  # Set to a low number for quick experimentation\n",
    "        batch_size=32,\n",
    "        verbose=1)"
   ]
  },
  {
   "cell_type": "code",
   "execution_count": 287,
   "metadata": {
    "colab": {
     "base_uri": "https://localhost:8080/"
    },
    "id": "R4TyVOkRij1D",
    "outputId": "a35e590a-8b28-4109-e549-beb9ff28e50d"
   },
   "outputs": [
    {
     "name": "stderr",
     "output_type": "stream",
     "text": [
      "WARNING:absl:You are saving your model as an HDF5 file via `model.save()` or `keras.saving.save_model(model)`. This file format is considered legacy. We recommend using instead the native Keras format, e.g. `model.save('my_model.keras')` or `keras.saving.save_model(model, 'my_model.keras')`. \n"
     ]
    }
   ],
   "source": [
    "model.save('lstm_model.h5')"
   ]
  },
  {
   "cell_type": "code",
   "execution_count": null,
   "metadata": {
    "id": "BesEcwgmjZ6p"
   },
   "outputs": [],
   "source": [
    "model.summary()"
   ]
  },
  {
   "cell_type": "code",
   "execution_count": 58,
   "metadata": {
    "id": "F4w9h29fuvPD"
   },
   "outputs": [],
   "source": [
    "from keras.activations import leaky_relu,elu"
   ]
  },
  {
   "cell_type": "code",
   "execution_count": null,
   "metadata": {
    "id": "Cr-_Gbc9lBnE"
   },
   "outputs": [],
   "source": [
    "model=Sequential()\n",
    "model.add(Embedding(input_dim=input,output_dim=300,weights=[t],trainable=False))\n",
    "model.add(Bidirectional(GRU(128,return_sequences=True)))\n",
    "model.add(Dropout(0.5))\n",
    "model.add(Bidirectional(GRU(64,return_sequences=False)))\n",
    "model.add(Dropout(0.4))\n",
    "model.add(Dense(32,activation='elu'))\n",
    "model.add(Dropout(0.2))\n",
    "model.add(Dense(1,activation='sigmoid'))"
   ]
  },
  {
   "cell_type": "code",
   "execution_count": 67,
   "metadata": {
    "id": "5wPaY6_3KG0b"
   },
   "outputs": [],
   "source": [
    "optimizer=Adam(learning_rate=0.001)"
   ]
  },
  {
   "cell_type": "code",
   "execution_count": 68,
   "metadata": {
    "id": "V3B6dxObmuDw"
   },
   "outputs": [],
   "source": [
    "model.compile(optimizer='adam',loss='binary_crossentropy', metrics=['accuracy'])"
   ]
  },
  {
   "cell_type": "code",
   "execution_count": 69,
   "metadata": {
    "colab": {
     "base_uri": "https://localhost:8080/"
    },
    "id": "V36uEXPHmxK-",
    "outputId": "cfd7b3d8-83d2-4e88-c274-ea4f0c64f157"
   },
   "outputs": [
    {
     "name": "stdout",
     "output_type": "stream",
     "text": [
      "Epoch 1/5\n",
      "\u001b[1m1250/1250\u001b[0m \u001b[32m━━━━━━━━━━━━━━━━━━━━\u001b[0m\u001b[37m\u001b[0m \u001b[1m74s\u001b[0m 56ms/step - accuracy: 0.5989 - loss: 0.6572 - val_accuracy: 0.7964 - val_loss: 0.4410\n",
      "Epoch 2/5\n",
      "\u001b[1m1250/1250\u001b[0m \u001b[32m━━━━━━━━━━━━━━━━━━━━\u001b[0m\u001b[37m\u001b[0m \u001b[1m77s\u001b[0m 52ms/step - accuracy: 0.7995 - loss: 0.4309 - val_accuracy: 0.8167 - val_loss: 0.3959\n",
      "Epoch 3/5\n",
      "\u001b[1m1250/1250\u001b[0m \u001b[32m━━━━━━━━━━━━━━━━━━━━\u001b[0m\u001b[37m\u001b[0m \u001b[1m82s\u001b[0m 52ms/step - accuracy: 0.8460 - loss: 0.3501 - val_accuracy: 0.8519 - val_loss: 0.3486\n",
      "Epoch 4/5\n",
      "\u001b[1m1250/1250\u001b[0m \u001b[32m━━━━━━━━━━━━━━━━━━━━\u001b[0m\u001b[37m\u001b[0m \u001b[1m81s\u001b[0m 51ms/step - accuracy: 0.8709 - loss: 0.2998 - val_accuracy: 0.8565 - val_loss: 0.3399\n",
      "Epoch 5/5\n",
      "\u001b[1m1250/1250\u001b[0m \u001b[32m━━━━━━━━━━━━━━━━━━━━\u001b[0m\u001b[37m\u001b[0m \u001b[1m82s\u001b[0m 51ms/step - accuracy: 0.8981 - loss: 0.2526 - val_accuracy: 0.8520 - val_loss: 0.3648\n"
     ]
    }
   ],
   "source": [
    "history = model.fit(\n",
    "        x_train, y_train,\n",
    "        validation_data=(x_test, y_test),\n",
    "        epochs=5,# Set to a low number for quick experimentation\n",
    "        batch_size=32,\n",
    "        verbose=1)"
   ]
  },
  {
   "cell_type": "code",
   "execution_count": 70,
   "metadata": {
    "colab": {
     "base_uri": "https://localhost:8080/"
    },
    "id": "wfl8r5Aum1IJ",
    "outputId": "7ae0e1db-a865-48c2-ba7e-6426cf5eeb2c"
   },
   "outputs": [
    {
     "name": "stderr",
     "output_type": "stream",
     "text": [
      "WARNING:absl:You are saving your model as an HDF5 file via `model.save()` or `keras.saving.save_model(model)`. This file format is considered legacy. We recommend using instead the native Keras format, e.g. `model.save('my_model.keras')` or `keras.saving.save_model(model, 'my_model.keras')`. \n"
     ]
    }
   ],
   "source": [
    "model.save('gru_model.h5')"
   ]
  },
  {
   "cell_type": "code",
   "execution_count": 7,
   "metadata": {
    "id": "uIU4u6DDN4lI"
   },
   "outputs": [],
   "source": [
    "from keras.models import load_model"
   ]
  },
  {
   "cell_type": "code",
   "execution_count": 24,
   "metadata": {},
   "outputs": [
    {
     "name": "stderr",
     "output_type": "stream",
     "text": [
      "WARNING:absl:Compiled the loaded model, but the compiled metrics have yet to be built. `model.compile_metrics` will be empty until you train or evaluate the model.\n"
     ]
    }
   ],
   "source": [
    "model=load_model('gru_model.h5')"
   ]
  },
  {
   "cell_type": "code",
   "execution_count": 288,
   "metadata": {
    "colab": {
     "base_uri": "https://localhost:8080/"
    },
    "id": "aFXyMw1l73Hg",
    "outputId": "58329d14-71fc-41f9-a422-e9da65ad4a04"
   },
   "outputs": [
    {
     "name": "stderr",
     "output_type": "stream",
     "text": [
      "WARNING:absl:Compiled the loaded model, but the compiled metrics have yet to be built. `model.compile_metrics` will be empty until you train or evaluate the model.\n"
     ]
    },
    {
     "name": "stdout",
     "output_type": "stream",
     "text": [
      "\u001b[1m313/313\u001b[0m \u001b[32m━━━━━━━━━━━━━━━━━━━━\u001b[0m\u001b[37m\u001b[0m \u001b[1m36s\u001b[0m 112ms/step - accuracy: 0.8919 - loss: 0.2979\n"
     ]
    },
    {
     "data": {
      "text/plain": [
       "[0.2971433103084564, 0.8881000280380249]"
      ]
     },
     "execution_count": 288,
     "metadata": {},
     "output_type": "execute_result"
    }
   ],
   "source": [
    "model=load_model('lstm_model.h5')\n",
    "model.compile(optimizer=optimizer,loss='binary_crossentropy', metrics=['accuracy'])\n",
    "model.evaluate(x_test, y_test, verbose=1)"
   ]
  },
  {
   "cell_type": "code",
   "execution_count": null,
   "metadata": {
    "id": "TktZmATz8E3a"
   },
   "outputs": [],
   "source": [
    "import pickle\n",
    "with open ('sentiment_token.pkl','rb') as file:\n",
    "  token=pickle.load(file)"
   ]
  },
  {
   "cell_type": "code",
   "execution_count": 368,
   "metadata": {},
   "outputs": [],
   "source": [
    "text='''No one expects the Star Trek movies to be high art, but the fans do expect a movie that is as good as some of the best episodes. Unfortunately, this movie had a muddled, implausible plot that just left me cringing - this is by far the worst of the nine (so far) movies. Even the chance to watch the well known characters interact in another movie can't save this movie - including the goofy scenes with Kirk, Spock and McCoy at Yosemite.<br /><br />I would say this movie is not worth a rental, and hardly worth watching, however for the True Fan who needs to see all the movies, renting this movie is about the only way you'll see it - even the cable channels avoid this movie.'''"
   ]
  },
  {
   "cell_type": "code",
   "execution_count": 369,
   "metadata": {
    "id": "aoJqsemW9ekr"
   },
   "outputs": [
    {
     "data": {
      "text/plain": [
       "'expect star trek movie high art fan expect movie good good episode unfortunately movie muddle implausible plot leave cringe far bad far movie chance watch know character interact movie can not save movie include goofy scenes kirk spock mccoy yosemitei movie worth rental hardly worth watch true fan need movie rent movie way you ll cable channel avoid movie'"
      ]
     },
     "execution_count": 369,
     "metadata": {},
     "output_type": "execute_result"
    }
   ],
   "source": [
    "text=text_pro(text)\n",
    "text"
   ]
  },
  {
   "cell_type": "code",
   "execution_count": 370,
   "metadata": {
    "id": "1SYPvgRu9suT"
   },
   "outputs": [
    {
     "data": {
      "text/plain": [
       "[33876]"
      ]
     },
     "execution_count": 370,
     "metadata": {},
     "output_type": "execute_result"
    }
   ],
   "source": [
    "df=token.texts_to_sequences(text)\n",
    "df[0]"
   ]
  },
  {
   "cell_type": "code",
   "execution_count": 371,
   "metadata": {
    "id": "N9wDNS2u9oXk"
   },
   "outputs": [
    {
     "data": {
      "text/plain": [
       "array([[33876,     0,     0, ...,     0,     0,     0],\n",
       "       [    1,     0,     0, ...,     0,     0,     0],\n",
       "       [21603,     0,     0, ...,     0,     0,     0],\n",
       "       ...,\n",
       "       [    1,     0,     0, ...,     0,     0,     0],\n",
       "       [  386,     0,     0, ...,     0,     0,     0],\n",
       "       [33876,     0,     0, ...,     0,     0,     0]], dtype=int32)"
      ]
     },
     "execution_count": 371,
     "metadata": {},
     "output_type": "execute_result"
    }
   ],
   "source": [
    "pad=pad_sequences(df,padding='post',maxlen=500)\n",
    "pad"
   ]
  },
  {
   "cell_type": "code",
   "execution_count": 372,
   "metadata": {
    "colab": {
     "base_uri": "https://localhost:8080/"
    },
    "id": "4sUBsAfk99EB",
    "outputId": "cfed4c1c-0443-4938-8ad5-53d8dc4832a2"
   },
   "outputs": [
    {
     "name": "stdout",
     "output_type": "stream",
     "text": [
      "\u001b[1m12/12\u001b[0m \u001b[32m━━━━━━━━━━━━━━━━━━━━\u001b[0m\u001b[37m\u001b[0m \u001b[1m3s\u001b[0m 221ms/step\n"
     ]
    },
    {
     "data": {
      "text/plain": [
       "0.4439902901649475"
      ]
     },
     "execution_count": 372,
     "metadata": {},
     "output_type": "execute_result"
    }
   ],
   "source": [
    "float(model.predict(pad)[0][0])"
   ]
  },
  {
   "cell_type": "code",
   "execution_count": 353,
   "metadata": {
    "id": "0LOP6u5U-Bax"
   },
   "outputs": [],
   "source": [
    "from sklearn.metrics import roc_auc_score,roc_curve,accuracy_score,auc,precision_score"
   ]
  },
  {
   "cell_type": "code",
   "execution_count": null,
   "metadata": {
    "colab": {
     "base_uri": "https://localhost:8080/"
    },
    "id": "N-91eSU8-vne",
    "outputId": "86f9ea20-d684-48a4-b87d-26797da634dc"
   },
   "outputs": [
    {
     "name": "stdout",
     "output_type": "stream",
     "text": [
      "\u001b[1m313/313\u001b[0m \u001b[32m━━━━━━━━━━━━━━━━━━━━\u001b[0m\u001b[37m\u001b[0m \u001b[1m86s\u001b[0m 275ms/step\n"
     ]
    }
   ],
   "source": [
    "p=model.predict(x_test)"
   ]
  },
  {
   "cell_type": "code",
   "execution_count": null,
   "metadata": {
    "id": "ZwwN4HDw-dze"
   },
   "outputs": [],
   "source": [
    "fpr,tpr,thr=roc_curve(y_test,p)"
   ]
  },
  {
   "cell_type": "code",
   "execution_count": 356,
   "metadata": {
    "id": "l7mrBEOD-3Zj"
   },
   "outputs": [],
   "source": [
    "import numpy as np"
   ]
  },
  {
   "cell_type": "code",
   "execution_count": null,
   "metadata": {
    "id": "sU-LOxnJ-660"
   },
   "outputs": [],
   "source": [
    "accuracy=[]\n",
    "for i in thr:\n",
    "  y_prd=np.where(p>i,1,0)\n",
    "  x=accuracy_score(y_test,y_prd)\n",
    "  accuracy.append(x)"
   ]
  },
  {
   "cell_type": "code",
   "execution_count": 358,
   "metadata": {
    "id": "OzQ6T4Dd-_O9"
   },
   "outputs": [],
   "source": [
    "d1=pd.DataFrame(thr,columns=[\"thresold\"])\n",
    "d2=pd.DataFrame(accuracy,columns=[\"accuracy_score\"])\n",
    "d=pd.concat([d1,d2],axis=1)"
   ]
  },
  {
   "cell_type": "code",
   "execution_count": 359,
   "metadata": {
    "colab": {
     "base_uri": "https://localhost:8080/",
     "height": 112
    },
    "id": "wMXgx54f_PLf",
    "outputId": "a7bfe10b-a9e5-4876-c0e2-8e437f59a310"
   },
   "outputs": [
    {
     "data": {
      "text/html": [
       "<div>\n",
       "<style scoped>\n",
       "    .dataframe tbody tr th:only-of-type {\n",
       "        vertical-align: middle;\n",
       "    }\n",
       "\n",
       "    .dataframe tbody tr th {\n",
       "        vertical-align: top;\n",
       "    }\n",
       "\n",
       "    .dataframe thead th {\n",
       "        text-align: right;\n",
       "    }\n",
       "</style>\n",
       "<table border=\"1\" class=\"dataframe\">\n",
       "  <thead>\n",
       "    <tr style=\"text-align: right;\">\n",
       "      <th></th>\n",
       "      <th>thresold</th>\n",
       "      <th>accuracy_score</th>\n",
       "    </tr>\n",
       "  </thead>\n",
       "  <tbody>\n",
       "    <tr>\n",
       "      <th>1023</th>\n",
       "      <td>0.566981</td>\n",
       "      <td>0.8839</td>\n",
       "    </tr>\n",
       "    <tr>\n",
       "      <th>1026</th>\n",
       "      <td>0.565401</td>\n",
       "      <td>0.8839</td>\n",
       "    </tr>\n",
       "  </tbody>\n",
       "</table>\n",
       "</div>"
      ],
      "text/plain": [
       "      thresold  accuracy_score\n",
       "1023  0.566981          0.8839\n",
       "1026  0.565401          0.8839"
      ]
     },
     "execution_count": 359,
     "metadata": {},
     "output_type": "execute_result"
    }
   ],
   "source": [
    "d.sort_values(by='accuracy_score',ascending=False).head(2)"
   ]
  },
  {
   "cell_type": "code",
   "execution_count": 360,
   "metadata": {
    "colab": {
     "base_uri": "https://localhost:8080/"
    },
    "id": "Hsgn3XFL_Sxw",
    "outputId": "b6a9a527-58b3-4b6f-b5b8-ea6f1d2f0858"
   },
   "outputs": [
    {
     "name": "stdout",
     "output_type": "stream",
     "text": [
      "\u001b[1m12/12\u001b[0m \u001b[32m━━━━━━━━━━━━━━━━━━━━\u001b[0m\u001b[37m\u001b[0m \u001b[1m2s\u001b[0m 132ms/step\n",
      "-ve 0.5560097\n"
     ]
    }
   ],
   "source": [
    "p=model.predict(pad)[0][0]\n",
    "if p>=.566981:\n",
    "  print('+ve' ,p)\n",
    "else:\n",
    "  print('-ve',(1-p))"
   ]
  },
  {
   "cell_type": "code",
   "execution_count": 383,
   "metadata": {
    "id": "OcOisQWA_yG-"
   },
   "outputs": [
    {
     "name": "stdout",
     "output_type": "stream",
     "text": [
      " * Serving Flask app '__main__'\n",
      " * Debug mode: off\n"
     ]
    },
    {
     "name": "stderr",
     "output_type": "stream",
     "text": [
      "WARNING: This is a development server. Do not use it in a production deployment. Use a production WSGI server instead.\n",
      " * Running on http://127.0.0.1:5000\n",
      "INFO:werkzeug:\u001b[31m\u001b[1mWARNING: This is a development server. Do not use it in a production deployment. Use a production WSGI server instead.\u001b[0m\n",
      " * Running on http://127.0.0.1:5000\n",
      "Press CTRL+C to quit\n",
      "INFO:werkzeug:\u001b[33mPress CTRL+C to quit\u001b[0m\n"
     ]
    },
    {
     "name": "stdout",
     "output_type": "stream",
     "text": [
      "\u001b[1m12/12\u001b[0m \u001b[32m━━━━━━━━━━━━━━━━━━━━\u001b[0m\u001b[37m\u001b[0m \u001b[1m3s\u001b[0m 261ms/step\n"
     ]
    },
    {
     "name": "stderr",
     "output_type": "stream",
     "text": [
      "127.0.0.1 - - [27/Nov/2024 16:55:45] \"POST /predict HTTP/1.1\" 200 -\n",
      "INFO:werkzeug:127.0.0.1 - - [27/Nov/2024 16:55:45] \"POST /predict HTTP/1.1\" 200 -\n"
     ]
    }
   ],
   "source": [
    "import flask\n",
    "from flask import Flask,request,render_template\n",
    "app=Flask(__name__,template_folder=\"template\")\n",
    "@app.route('/')\n",
    "def home_page():\n",
    "    return render_template(\"index.html\")\n",
    "@app.route('/predict',methods=[\"POST\"])\n",
    "def pred_page():\n",
    "    data=str(request.form.get('review'))\n",
    "    text=text_pro(data)\n",
    "    df=token.texts_to_sequences(text)\n",
    "    pad=pad_sequences(df,maxlen=500,padding='post')\n",
    "    p=model.predict(pad)[0][0]\n",
    "    if p>=0.5:\n",
    "       x= f'posetive {p*100: .2f}%'\n",
    "    else:\n",
    "       p=(1-p)\n",
    "       x= f'negetive  {p*100: .2f}%'\n",
    "    return render_template(\"result.html\",x=x)\n",
    "\n",
    "if __name__==\"__main__\":\n",
    " app.run()"
   ]
  },
  {
   "cell_type": "code",
   "execution_count": null,
   "metadata": {},
   "outputs": [],
   "source": []
  }
 ],
 "metadata": {
  "accelerator": "GPU",
  "colab": {
   "gpuType": "T4",
   "provenance": []
  },
  "kernelspec": {
   "display_name": "Python 3",
   "name": "python3"
  },
  "language_info": {
   "codemirror_mode": {
    "name": "ipython",
    "version": 3
   },
   "file_extension": ".py",
   "mimetype": "text/x-python",
   "name": "python",
   "nbconvert_exporter": "python",
   "pygments_lexer": "ipython3",
   "version": "3.10.0"
  }
 },
 "nbformat": 4,
 "nbformat_minor": 0
}
